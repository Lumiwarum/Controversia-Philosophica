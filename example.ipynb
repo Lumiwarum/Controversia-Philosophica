{
 "cells": [
  {
   "cell_type": "markdown",
   "source": [
    "# Controversia Philosophica\n",
    "\n",
    "## Example on usage\n",
    "\n",
    "In this Jupyter Notebook, we will show a quick example how to get started with Controversia Philosophica."
   ],
   "metadata": {
    "collapsed": false
   },
   "id": "4be89111d4a81b76"
  },
  {
   "cell_type": "code",
   "execution_count": 1,
   "outputs": [
    {
     "name": "stdout",
     "output_type": "stream",
     "text": [
      "Topic: Pizza with pineapples\n",
      "---------- Round 1 ----------\n",
      "\n",
      "Average Pineapples Pizza Enjoyer: I completely understand that the topic of pizza with pineapples can be quite controversial. However, I firmly believe that pineapples on pizza are absolutely delicious. The unique flavor combination that pineapple brings to a pizza can be a refreshing change from the traditional toppings. It adds a sweet and tangy taste that perfectly complements the savory flavors of the cheese, sauce, and other ingredients.\n",
      "\n",
      "Average Pineapples Pizza Hater: I understand that you find the unique flavor combination of pineapple on pizza to be refreshing. However, I believe that pineapples on pizza are disgusting. While it is true that the sweetness and tanginess of pineapple can complement other ingredients, such as cheese and sauce, I argue that the contrasting flavors do not work well together. The sweetness of the pineapple can overpower the savory flavors of the pizza, creating an unbalanced taste that is unappealing to many. Furthermore, the texture of cooked pineapple can be off-putting for some, with its soft and sometimes stringy consistency. Overall, I believe that the combination of pineapple and pizza is a culinary mismatch that detracts from the enjoyment of a traditionally savory dish.\n",
      "\n",
      "\n",
      "\n",
      "---------- Round 2 ----------\n",
      "\n",
      "Average Pineapples Pizza Enjoyer: I understand your perspective, but I respectfully disagree. While it is true that pineapple on pizza can create a contrast of flavors, I believe that this contrast is what makes it so delicious. The sweetness and tanginess of the pineapple can enhance the overall taste of the pizza, providing a unique and enjoyable experience for the palate. \n",
      "\n",
      "Moreover, I would argue that the combination of sweet and savory is not uncommon in many other dishes that are widely loved and appreciated. For example, dishes like sweet and sour chicken or teriyaki glaze on meat showcase the successful marriage of contrasting flavors. In the same way, pineapple on pizza can provide a burst of freshness and brightness that elevates the overall taste.\n",
      "\n",
      "Regarding the texture concerns, I acknowledge that some people may find the texture of cooked pineapple off-putting. However, it is important to note that texture preferences can vary greatly from person to person. While some may not enjoy the softness or stringiness of cooked pineapple, others may find it enjoyable and satisfying.\n",
      "\n",
      "In conclusion, I believe that the unique flavor combination of pineapple on pizza is a delightful departure from the traditional toppings. The contrasting flavors and textures can create a memorable and enjoyable eating experience for those who are open to trying something new and different.\n",
      "\n",
      "Average Pineapples Pizza Hater: I appreciate your perspective and the examples you provided regarding the successful combination of sweet and savory flavors in other dishes. However, I still maintain that pineapple on pizza is not a pleasant combination.\n",
      "\n",
      "While it is true that contrasting flavors can sometimes work well together, in the case of pineapple on pizza, the sweetness of the fruit tends to overpower the savory flavors of the cheese, sauce, and other toppings. This can create an unbalanced taste that is unappealing to many pizza enthusiasts. The pineapple's strong and distinct flavor can dominate the overall flavor profile of the pizza, masking the flavors of the other ingredients.\n",
      "\n",
      "Additionally, the texture of cooked pineapple can be a concern for many people. The soft and sometimes stringy consistency of cooked pineapple can be off-putting and disrupt the overall texture of the pizza. Texture is an important aspect of any dish, and the presence of cooked pineapple can detract from the enjoyment of a traditionally savory and well-balanced pizza.\n",
      "\n",
      "While individuals may have different texture preferences, the widespread dislike of cooked pineapple on pizza suggests that it is not a widely accepted or enjoyed topping. Pizza is deeply rooted in Italian culinary traditions, and the addition of pineapple can be seen as a deviation from these traditions. For pizza purists, the inclusion of pineapple is a point of contention and can detract from the authenticity and enjoyment of the dish.\n",
      "\n",
      "In conclusion, the overpowering sweetness, disruptive texture, and deviation from traditional pizza flavors make pineapple on pizza a culinary mismatch that many find unappetizing. The enjoyment of a well-balanced and authentic pizza is best achieved without the addition of pineapple.\n"
     ]
    }
   ],
   "source": [
    "from contphica.debate import Debate\n",
    "\n",
    "openai_token = \"<OpenAI token here>\" \n",
    "\n",
    "topic = \"Pizza with pineapples\"\n",
    "opinion_pro = \"Pineapples on pizza are delicious\"\n",
    "opinion_con = \"Pineapples on pizza are disgusting\"\n",
    "dispute_knowledge = \"\"\"\n",
    "Pros of Pineapple Pizza\n",
    "    1. Unique Flavor Combination: Pineapple pizza offers a unique contrast of flavors that can be a refreshing change from traditional pizza toppings.\n",
    "    2. Versatility: It pairs well with a variety of other ingredients, making it suitable for both vegetarians and meat lovers.\n",
    "    3. A Slice of Paradise: For those who enjoy a taste of the tropics, pineapple can transport you to a sunnier state of mind.\n",
    "Cons of Pineapple Pizza\n",
    "    1. Controversial: Pineapple pizza is one of the most polarizing foods, and you're likely to encounter strong opinions against it.\n",
    "    2. Texture Concerns: Some people dislike the texture of cooked pineapple, finding it too soft or stringy.\n",
    "    3. The Traditionalist Argument: Pineapple on pizza is seen as a deviation from the traditional Italian approach to pizza, which can be a point of contention for pizza purists.\n",
    "\"\"\"\n",
    "\n",
    "debate = (Debate(topic)\n",
    "          .with_knowledge(dispute_knowledge)\n",
    "          .with_opinions(pro=opinion_pro, con=opinion_con)\n",
    "          .with_prompt(\"dispute_default\")\n",
    "          .with_gpt_agents(token=openai_token)\n",
    "          .with_limit(2)\n",
    "          .with_debater_names(\"Average Pineapples Pizza Enjoyer\", \"Average Pineapples Pizza Hater\")\n",
    "          )\n",
    "debate.start()"
   ],
   "metadata": {
    "collapsed": false,
    "ExecuteTime": {
     "end_time": "2023-10-27T20:02:47.294442Z",
     "start_time": "2023-10-27T20:01:20.693649Z"
    }
   },
   "id": "initial_id"
  },
  {
   "cell_type": "code",
   "execution_count": 1,
   "outputs": [],
   "source": [],
   "metadata": {
    "collapsed": false,
    "ExecuteTime": {
     "end_time": "2023-10-27T20:02:47.294715Z",
     "start_time": "2023-10-27T20:02:47.278791Z"
    }
   },
   "id": "d63262e574bf6480"
  }
 ],
 "metadata": {
  "kernelspec": {
   "display_name": "Python 3",
   "language": "python",
   "name": "python3"
  },
  "language_info": {
   "codemirror_mode": {
    "name": "ipython",
    "version": 2
   },
   "file_extension": ".py",
   "mimetype": "text/x-python",
   "name": "python",
   "nbconvert_exporter": "python",
   "pygments_lexer": "ipython2",
   "version": "2.7.6"
  }
 },
 "nbformat": 4,
 "nbformat_minor": 5
}
